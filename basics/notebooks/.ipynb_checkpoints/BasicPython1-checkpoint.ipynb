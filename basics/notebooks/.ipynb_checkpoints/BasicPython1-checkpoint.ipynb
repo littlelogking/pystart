{
 "cells": [
  {
   "cell_type": "markdown",
   "metadata": {},
   "source": [
    "# Operators"
   ]
  },
  {
   "cell_type": "markdown",
   "metadata": {},
   "source": [
    "#  math operators"
   ]
  },
  {
   "cell_type": "markdown",
   "metadata": {},
   "source": [
    "If your doing math on python, one of the key things you need to know in python is the main math operators."
   ]
  },
  {
   "cell_type": "markdown",
   "metadata": {},
   "source": [
    "These are the math operators."
   ]
  },
  {
   "cell_type": "code",
   "execution_count": 1,
   "metadata": {},
   "outputs": [
    {
     "name": "stdout",
     "output_type": "stream",
     "text": [
      "9\n",
      "1\n",
      "4.0\n",
      "10\n",
      "16\n",
      "1\n",
      "3\n"
     ]
    }
   ],
   "source": [
    "\n",
    "print (4 + 5)#this is an example of an addition sum\n",
    "print (5 - 4)#this is an example of a subtraction sum\n",
    "print (20 / 5)#this is an example of a division sum\n",
    "print (5 * 2)#this is an example of a multiplication sum\n",
    "print (4 ** 2)#this is an example of an exponentional operator(an indice)\n",
    "print(4 % 3)#this is an example of a modulo operator(finds the remainder of a division)\n",
    "print(10 // 3)#this is an example of floor division(divides and rounds to the nearest whole number).\n"
   ]
  },
  {
   "cell_type": "markdown",
   "metadata": {},
   "source": [
    "#  Logical Operators"
   ]
  },
  {
   "cell_type": "markdown",
   "metadata": {},
   "source": [
    "If your writing any program, the chances are you are going to use a logical expression."
   ]
  },
  {
   "cell_type": "markdown",
   "metadata": {},
   "source": [
    "These are examples."
   ]
  },
  {
   "cell_type": "code",
   "execution_count": 14,
   "metadata": {},
   "outputs": [
    {
     "name": "stdout",
     "output_type": "stream",
     "text": [
      "True\n",
      "True\n",
      "False\n"
     ]
    }
   ],
   "source": [
    "#In the example below the code prints True.This is because both of the conditions are true.\n",
    "x=5\n",
    "print(x > 1 and x < 10)\n",
    "#This example returns true because one of the the conditions is true.\n",
    "print(x > 3 or x < 4)\n",
    "#This example returns false because it reverses the result.\n",
    "print(not(x > 3 and x < 10))"
   ]
  },
  {
   "cell_type": "markdown",
   "metadata": {},
   "source": [
    "# Comparison Operators"
   ]
  },
  {
   "cell_type": "code",
   "execution_count": 16,
   "metadata": {},
   "outputs": [
    {
     "name": "stdout",
     "output_type": "stream",
     "text": [
      "True\n",
      "True\n",
      "False\n",
      "True\n",
      "True\n"
     ]
    }
   ],
   "source": [
    "print(5>4) #This means greater than.\n",
    "print(4>=4) #This means greater than or equal.\n",
    "print(5<4) #This means smaller than.\n",
    "print(4<=4) #This means smaller than or equal.\n",
    "print(5==5) #This means equal."
   ]
  },
  {
   "cell_type": "markdown",
   "metadata": {},
   "source": [
    "# Exercise"
   ]
  },
  {
   "cell_type": "markdown",
   "metadata": {},
   "source": [
    "Write down what these symbols mean.\n",
    "1)==\n",
    "   2)>\n",
    "   3)<=\n",
    "   4)not\n",
    "   5)**\n",
    "   6)>=\n",
    "   7)+\n",
    "   8)%\n",
    "   9)//\n",
    "   10)/"
   ]
  },
  {
   "cell_type": "code",
   "execution_count": null,
   "metadata": {},
   "outputs": [],
   "source": []
  }
 ],
 "metadata": {
  "kernelspec": {
   "display_name": "Python 3",
   "language": "python",
   "name": "python3"
  },
  "language_info": {
   "codemirror_mode": {
    "name": "ipython",
    "version": 3
   },
   "file_extension": ".py",
   "mimetype": "text/x-python",
   "name": "python",
   "nbconvert_exporter": "python",
   "pygments_lexer": "ipython3",
   "version": "3.7.1"
  }
 },
 "nbformat": 4,
 "nbformat_minor": 2
}
