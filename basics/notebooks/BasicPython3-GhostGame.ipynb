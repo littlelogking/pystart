{
 "cells": [
  {
   "cell_type": "markdown",
   "metadata": {},
   "source": [
    "# Basic Python 3"
   ]
  },
  {
   "cell_type": "markdown",
   "metadata": {},
   "source": [
    "In this notebook we are going to make a game and introduce functions."
   ]
  },
  {
   "cell_type": "markdown",
   "metadata": {},
   "source": [
    "This game was originally made in one of Carol Vorerman's books."
   ]
  },
  {
   "cell_type": "markdown",
   "metadata": {},
   "source": [
    "# Fuctions"
   ]
  },
  {
   "cell_type": "markdown",
   "metadata": {},
   "source": [
    "A function is a  way to make your program shorter."
   ]
  },
  {
   "cell_type": "code",
   "execution_count": 9,
   "metadata": {},
   "outputs": [],
   "source": [
    "#Example of a function.\n",
    "def HighScore(score, highscore):\n",
    "    if score > highscore:\n",
    "        highscore = score\n",
    "    return highscore"
   ]
  },
  {
   "cell_type": "code",
   "execution_count": 10,
   "metadata": {},
   "outputs": [
    {
     "name": "stdout",
     "output_type": "stream",
     "text": [
      "Your highscore is 5 .\n"
     ]
    }
   ],
   "source": [
    "score = 5\n",
    "highscore=4\n",
    "#This is how you use a function.\n",
    "highscore=HighScore(score, highscore)\n",
    "print ('Your highscore is',highscore,'.')"
   ]
  },
  {
   "cell_type": "markdown",
   "metadata": {},
   "source": [
    "That was a simple example of a function that checks if you broke a highscore."
   ]
  },
  {
   "cell_type": "markdown",
   "metadata": {},
   "source": [
    "# The Game"
   ]
  },
  {
   "cell_type": "code",
   "execution_count": 1,
   "metadata": {},
   "outputs": [],
   "source": [
    "#These are the imports you will need.\n",
    "from random import randint"
   ]
  },
  {
   "cell_type": "code",
   "execution_count": 2,
   "metadata": {},
   "outputs": [],
   "source": [
    "#Run this cell if you want to reset your high score or haven't played the game yet.\n",
    "highscore = 0"
   ]
  },
  {
   "cell_type": "code",
   "execution_count": 3,
   "metadata": {},
   "outputs": [],
   "source": [
    "#fuctions\n",
    "def newgame():\n",
    "    feeling_brave = 1\n",
    "    score = 0    \n",
    "    return [feeling_brave, score]\n",
    "    \n",
    "def HighScore(score, highscore):\n",
    "    if score > highscore:\n",
    "        highscore = score\n",
    "        print ('You have got a new high score of',highscore,'!')\n",
    "    return highscore\n",
    "\n",
    "def choosedoor():\n",
    "    print('3 doors ahead...')    \n",
    "    print('a ghost behind two .')    \n",
    "    print('which door do you open?'  ) \n",
    "\n",
    "def safedoor(score):\n",
    "    score = score + 1\n",
    "    print ('No Ghost!')\n",
    "    print ('Move on to the next room...') \n",
    "    return score\n",
    "\n",
    "def ghost_door():\n",
    "    feeling_brave = 0\n",
    "    print ('GHOST!')\n",
    "    print ('Your score was',score,'!')\n",
    "    newgame()\n",
    "    return score"
   ]
  },
  {
   "cell_type": "code",
   "execution_count": 15,
   "metadata": {},
   "outputs": [
    {
     "name": "stdout",
     "output_type": "stream",
     "text": [
      "3 doors ahead...\n",
      "a ghost behind two .\n",
      "which door do you open?\n",
      "1, 2 or 3? 2\n",
      "GHOST!\n",
      "Your score was 0 !\n",
      "compute high score\n"
     ]
    }
   ],
   "source": [
    "game=newgame()\n",
    "feeling_brave=game[0]\n",
    "score=game[1]\n",
    "\n",
    "while feeling_brave == 1:\n",
    "    choosedoor()\n",
    "    safe_door = randint(1,3)\n",
    "    door = input('1, 2 or 3? ') \n",
    "    door_num = int(door)   #door is a string convert to int\n",
    "    if door_num == safe_door: \n",
    "        score = safedoor(score)\n",
    "    if door_num > safe_door or door_num < safe_door:\n",
    "        ghost_door()\n",
    "        feeling_brave = 0\n",
    "\n",
    "print('compute high score')\n",
    "highscore=HighScore(score,highscore)"
   ]
  },
  {
   "cell_type": "code",
   "execution_count": 16,
   "metadata": {},
   "outputs": [
    {
     "name": "stdout",
     "output_type": "stream",
     "text": [
      "2\n"
     ]
    }
   ],
   "source": [
    "print(highscore)"
   ]
  },
  {
   "cell_type": "code",
   "execution_count": null,
   "metadata": {},
   "outputs": [],
   "source": []
  }
 ],
 "metadata": {
  "kernelspec": {
   "display_name": "Python 3",
   "language": "python",
   "name": "python3"
  },
  "language_info": {
   "codemirror_mode": {
    "name": "ipython",
    "version": 3
   },
   "file_extension": ".py",
   "mimetype": "text/x-python",
   "name": "python",
   "nbconvert_exporter": "python",
   "pygments_lexer": "ipython3",
   "version": "3.7.1"
  }
 },
 "nbformat": 4,
 "nbformat_minor": 2
}
